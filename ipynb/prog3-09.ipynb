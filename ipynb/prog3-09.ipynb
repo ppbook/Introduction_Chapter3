{
  "nbformat": 4,
  "nbformat_minor": 0,
  "metadata": {
    "colab": {
      "name": "prog3-09.ipynb",
      "provenance": [],
      "collapsed_sections": []
    },
    "kernelspec": {
      "name": "python3",
      "display_name": "Python 3"
    }
  },
  "cells": [
    {
      "cell_type": "code",
      "metadata": {
        "colab": {
          "resources": {
            "http://localhost:8080/nbextensions/google.colab/files.js": {
              "data": "Ly8gQ29weXJpZ2h0IDIwMTcgR29vZ2xlIExMQwovLwovLyBMaWNlbnNlZCB1bmRlciB0aGUgQXBhY2hlIExpY2Vuc2UsIFZlcnNpb24gMi4wICh0aGUgIkxpY2Vuc2UiKTsKLy8geW91IG1heSBub3QgdXNlIHRoaXMgZmlsZSBleGNlcHQgaW4gY29tcGxpYW5jZSB3aXRoIHRoZSBMaWNlbnNlLgovLyBZb3UgbWF5IG9idGFpbiBhIGNvcHkgb2YgdGhlIExpY2Vuc2UgYXQKLy8KLy8gICAgICBodHRwOi8vd3d3LmFwYWNoZS5vcmcvbGljZW5zZXMvTElDRU5TRS0yLjAKLy8KLy8gVW5sZXNzIHJlcXVpcmVkIGJ5IGFwcGxpY2FibGUgbGF3IG9yIGFncmVlZCB0byBpbiB3cml0aW5nLCBzb2Z0d2FyZQovLyBkaXN0cmlidXRlZCB1bmRlciB0aGUgTGljZW5zZSBpcyBkaXN0cmlidXRlZCBvbiBhbiAiQVMgSVMiIEJBU0lTLAovLyBXSVRIT1VUIFdBUlJBTlRJRVMgT1IgQ09ORElUSU9OUyBPRiBBTlkgS0lORCwgZWl0aGVyIGV4cHJlc3Mgb3IgaW1wbGllZC4KLy8gU2VlIHRoZSBMaWNlbnNlIGZvciB0aGUgc3BlY2lmaWMgbGFuZ3VhZ2UgZ292ZXJuaW5nIHBlcm1pc3Npb25zIGFuZAovLyBsaW1pdGF0aW9ucyB1bmRlciB0aGUgTGljZW5zZS4KCi8qKgogKiBAZmlsZW92ZXJ2aWV3IEhlbHBlcnMgZm9yIGdvb2dsZS5jb2xhYiBQeXRob24gbW9kdWxlLgogKi8KKGZ1bmN0aW9uKHNjb3BlKSB7CmZ1bmN0aW9uIHNwYW4odGV4dCwgc3R5bGVBdHRyaWJ1dGVzID0ge30pIHsKICBjb25zdCBlbGVtZW50ID0gZG9jdW1lbnQuY3JlYXRlRWxlbWVudCgnc3BhbicpOwogIGVsZW1lbnQudGV4dENvbnRlbnQgPSB0ZXh0OwogIGZvciAoY29uc3Qga2V5IG9mIE9iamVjdC5rZXlzKHN0eWxlQXR0cmlidXRlcykpIHsKICAgIGVsZW1lbnQuc3R5bGVba2V5XSA9IHN0eWxlQXR0cmlidXRlc1trZXldOwogIH0KICByZXR1cm4gZWxlbWVudDsKfQoKLy8gTWF4IG51bWJlciBvZiBieXRlcyB3aGljaCB3aWxsIGJlIHVwbG9hZGVkIGF0IGEgdGltZS4KY29uc3QgTUFYX1BBWUxPQURfU0laRSA9IDEwMCAqIDEwMjQ7CgpmdW5jdGlvbiBfdXBsb2FkRmlsZXMoaW5wdXRJZCwgb3V0cHV0SWQpIHsKICBjb25zdCBzdGVwcyA9IHVwbG9hZEZpbGVzU3RlcChpbnB1dElkLCBvdXRwdXRJZCk7CiAgY29uc3Qgb3V0cHV0RWxlbWVudCA9IGRvY3VtZW50LmdldEVsZW1lbnRCeUlkKG91dHB1dElkKTsKICAvLyBDYWNoZSBzdGVwcyBvbiB0aGUgb3V0cHV0RWxlbWVudCB0byBtYWtlIGl0IGF2YWlsYWJsZSBmb3IgdGhlIG5leHQgY2FsbAogIC8vIHRvIHVwbG9hZEZpbGVzQ29udGludWUgZnJvbSBQeXRob24uCiAgb3V0cHV0RWxlbWVudC5zdGVwcyA9IHN0ZXBzOwoKICByZXR1cm4gX3VwbG9hZEZpbGVzQ29udGludWUob3V0cHV0SWQpOwp9CgovLyBUaGlzIGlzIHJvdWdobHkgYW4gYXN5bmMgZ2VuZXJhdG9yIChub3Qgc3VwcG9ydGVkIGluIHRoZSBicm93c2VyIHlldCksCi8vIHdoZXJlIHRoZXJlIGFyZSBtdWx0aXBsZSBhc3luY2hyb25vdXMgc3RlcHMgYW5kIHRoZSBQeXRob24gc2lkZSBpcyBnb2luZwovLyB0byBwb2xsIGZvciBjb21wbGV0aW9uIG9mIGVhY2ggc3RlcC4KLy8gVGhpcyB1c2VzIGEgUHJvbWlzZSB0byBibG9jayB0aGUgcHl0aG9uIHNpZGUgb24gY29tcGxldGlvbiBvZiBlYWNoIHN0ZXAsCi8vIHRoZW4gcGFzc2VzIHRoZSByZXN1bHQgb2YgdGhlIHByZXZpb3VzIHN0ZXAgYXMgdGhlIGlucHV0IHRvIHRoZSBuZXh0IHN0ZXAuCmZ1bmN0aW9uIF91cGxvYWRGaWxlc0NvbnRpbnVlKG91dHB1dElkKSB7CiAgY29uc3Qgb3V0cHV0RWxlbWVudCA9IGRvY3VtZW50LmdldEVsZW1lbnRCeUlkKG91dHB1dElkKTsKICBjb25zdCBzdGVwcyA9IG91dHB1dEVsZW1lbnQuc3RlcHM7CgogIGNvbnN0IG5leHQgPSBzdGVwcy5uZXh0KG91dHB1dEVsZW1lbnQubGFzdFByb21pc2VWYWx1ZSk7CiAgcmV0dXJuIFByb21pc2UucmVzb2x2ZShuZXh0LnZhbHVlLnByb21pc2UpLnRoZW4oKHZhbHVlKSA9PiB7CiAgICAvLyBDYWNoZSB0aGUgbGFzdCBwcm9taXNlIHZhbHVlIHRvIG1ha2UgaXQgYXZhaWxhYmxlIHRvIHRoZSBuZXh0CiAgICAvLyBzdGVwIG9mIHRoZSBnZW5lcmF0b3IuCiAgICBvdXRwdXRFbGVtZW50Lmxhc3RQcm9taXNlVmFsdWUgPSB2YWx1ZTsKICAgIHJldHVybiBuZXh0LnZhbHVlLnJlc3BvbnNlOwogIH0pOwp9CgovKioKICogR2VuZXJhdG9yIGZ1bmN0aW9uIHdoaWNoIGlzIGNhbGxlZCBiZXR3ZWVuIGVhY2ggYXN5bmMgc3RlcCBvZiB0aGUgdXBsb2FkCiAqIHByb2Nlc3MuCiAqIEBwYXJhbSB7c3RyaW5nfSBpbnB1dElkIEVsZW1lbnQgSUQgb2YgdGhlIGlucHV0IGZpbGUgcGlja2VyIGVsZW1lbnQuCiAqIEBwYXJhbSB7c3RyaW5nfSBvdXRwdXRJZCBFbGVtZW50IElEIG9mIHRoZSBvdXRwdXQgZGlzcGxheS4KICogQHJldHVybiB7IUl0ZXJhYmxlPCFPYmplY3Q+fSBJdGVyYWJsZSBvZiBuZXh0IHN0ZXBzLgogKi8KZnVuY3Rpb24qIHVwbG9hZEZpbGVzU3RlcChpbnB1dElkLCBvdXRwdXRJZCkgewogIGNvbnN0IGlucHV0RWxlbWVudCA9IGRvY3VtZW50LmdldEVsZW1lbnRCeUlkKGlucHV0SWQpOwogIGlucHV0RWxlbWVudC5kaXNhYmxlZCA9IGZhbHNlOwoKICBjb25zdCBvdXRwdXRFbGVtZW50ID0gZG9jdW1lbnQuZ2V0RWxlbWVudEJ5SWQob3V0cHV0SWQpOwogIG91dHB1dEVsZW1lbnQuaW5uZXJIVE1MID0gJyc7CgogIGNvbnN0IHBpY2tlZFByb21pc2UgPSBuZXcgUHJvbWlzZSgocmVzb2x2ZSkgPT4gewogICAgaW5wdXRFbGVtZW50LmFkZEV2ZW50TGlzdGVuZXIoJ2NoYW5nZScsIChlKSA9PiB7CiAgICAgIHJlc29sdmUoZS50YXJnZXQuZmlsZXMpOwogICAgfSk7CiAgfSk7CgogIGNvbnN0IGNhbmNlbCA9IGRvY3VtZW50LmNyZWF0ZUVsZW1lbnQoJ2J1dHRvbicpOwogIGlucHV0RWxlbWVudC5wYXJlbnRFbGVtZW50LmFwcGVuZENoaWxkKGNhbmNlbCk7CiAgY2FuY2VsLnRleHRDb250ZW50ID0gJ0NhbmNlbCB1cGxvYWQnOwogIGNvbnN0IGNhbmNlbFByb21pc2UgPSBuZXcgUHJvbWlzZSgocmVzb2x2ZSkgPT4gewogICAgY2FuY2VsLm9uY2xpY2sgPSAoKSA9PiB7CiAgICAgIHJlc29sdmUobnVsbCk7CiAgICB9OwogIH0pOwoKICAvLyBXYWl0IGZvciB0aGUgdXNlciB0byBwaWNrIHRoZSBmaWxlcy4KICBjb25zdCBmaWxlcyA9IHlpZWxkIHsKICAgIHByb21pc2U6IFByb21pc2UucmFjZShbcGlja2VkUHJvbWlzZSwgY2FuY2VsUHJvbWlzZV0pLAogICAgcmVzcG9uc2U6IHsKICAgICAgYWN0aW9uOiAnc3RhcnRpbmcnLAogICAgfQogIH07CgogIGNhbmNlbC5yZW1vdmUoKTsKCiAgLy8gRGlzYWJsZSB0aGUgaW5wdXQgZWxlbWVudCBzaW5jZSBmdXJ0aGVyIHBpY2tzIGFyZSBub3QgYWxsb3dlZC4KICBpbnB1dEVsZW1lbnQuZGlzYWJsZWQgPSB0cnVlOwoKICBpZiAoIWZpbGVzKSB7CiAgICByZXR1cm4gewogICAgICByZXNwb25zZTogewogICAgICAgIGFjdGlvbjogJ2NvbXBsZXRlJywKICAgICAgfQogICAgfTsKICB9CgogIGZvciAoY29uc3QgZmlsZSBvZiBmaWxlcykgewogICAgY29uc3QgbGkgPSBkb2N1bWVudC5jcmVhdGVFbGVtZW50KCdsaScpOwogICAgbGkuYXBwZW5kKHNwYW4oZmlsZS5uYW1lLCB7Zm9udFdlaWdodDogJ2JvbGQnfSkpOwogICAgbGkuYXBwZW5kKHNwYW4oCiAgICAgICAgYCgke2ZpbGUudHlwZSB8fCAnbi9hJ30pIC0gJHtmaWxlLnNpemV9IGJ5dGVzLCBgICsKICAgICAgICBgbGFzdCBtb2RpZmllZDogJHsKICAgICAgICAgICAgZmlsZS5sYXN0TW9kaWZpZWREYXRlID8gZmlsZS5sYXN0TW9kaWZpZWREYXRlLnRvTG9jYWxlRGF0ZVN0cmluZygpIDoKICAgICAgICAgICAgICAgICAgICAgICAgICAgICAgICAgICAgJ24vYSd9IC0gYCkpOwogICAgY29uc3QgcGVyY2VudCA9IHNwYW4oJzAlIGRvbmUnKTsKICAgIGxpLmFwcGVuZENoaWxkKHBlcmNlbnQpOwoKICAgIG91dHB1dEVsZW1lbnQuYXBwZW5kQ2hpbGQobGkpOwoKICAgIGNvbnN0IGZpbGVEYXRhUHJvbWlzZSA9IG5ldyBQcm9taXNlKChyZXNvbHZlKSA9PiB7CiAgICAgIGNvbnN0IHJlYWRlciA9IG5ldyBGaWxlUmVhZGVyKCk7CiAgICAgIHJlYWRlci5vbmxvYWQgPSAoZSkgPT4gewogICAgICAgIHJlc29sdmUoZS50YXJnZXQucmVzdWx0KTsKICAgICAgfTsKICAgICAgcmVhZGVyLnJlYWRBc0FycmF5QnVmZmVyKGZpbGUpOwogICAgfSk7CiAgICAvLyBXYWl0IGZvciB0aGUgZGF0YSB0byBiZSByZWFkeS4KICAgIGxldCBmaWxlRGF0YSA9IHlpZWxkIHsKICAgICAgcHJvbWlzZTogZmlsZURhdGFQcm9taXNlLAogICAgICByZXNwb25zZTogewogICAgICAgIGFjdGlvbjogJ2NvbnRpbnVlJywKICAgICAgfQogICAgfTsKCiAgICAvLyBVc2UgYSBjaHVua2VkIHNlbmRpbmcgdG8gYXZvaWQgbWVzc2FnZSBzaXplIGxpbWl0cy4gU2VlIGIvNjIxMTU2NjAuCiAgICBsZXQgcG9zaXRpb24gPSAwOwogICAgd2hpbGUgKHBvc2l0aW9uIDwgZmlsZURhdGEuYnl0ZUxlbmd0aCkgewogICAgICBjb25zdCBsZW5ndGggPSBNYXRoLm1pbihmaWxlRGF0YS5ieXRlTGVuZ3RoIC0gcG9zaXRpb24sIE1BWF9QQVlMT0FEX1NJWkUpOwogICAgICBjb25zdCBjaHVuayA9IG5ldyBVaW50OEFycmF5KGZpbGVEYXRhLCBwb3NpdGlvbiwgbGVuZ3RoKTsKICAgICAgcG9zaXRpb24gKz0gbGVuZ3RoOwoKICAgICAgY29uc3QgYmFzZTY0ID0gYnRvYShTdHJpbmcuZnJvbUNoYXJDb2RlLmFwcGx5KG51bGwsIGNodW5rKSk7CiAgICAgIHlpZWxkIHsKICAgICAgICByZXNwb25zZTogewogICAgICAgICAgYWN0aW9uOiAnYXBwZW5kJywKICAgICAgICAgIGZpbGU6IGZpbGUubmFtZSwKICAgICAgICAgIGRhdGE6IGJhc2U2NCwKICAgICAgICB9LAogICAgICB9OwogICAgICBwZXJjZW50LnRleHRDb250ZW50ID0KICAgICAgICAgIGAke01hdGgucm91bmQoKHBvc2l0aW9uIC8gZmlsZURhdGEuYnl0ZUxlbmd0aCkgKiAxMDApfSUgZG9uZWA7CiAgICB9CiAgfQoKICAvLyBBbGwgZG9uZS4KICB5aWVsZCB7CiAgICByZXNwb25zZTogewogICAgICBhY3Rpb246ICdjb21wbGV0ZScsCiAgICB9CiAgfTsKfQoKc2NvcGUuZ29vZ2xlID0gc2NvcGUuZ29vZ2xlIHx8IHt9OwpzY29wZS5nb29nbGUuY29sYWIgPSBzY29wZS5nb29nbGUuY29sYWIgfHwge307CnNjb3BlLmdvb2dsZS5jb2xhYi5fZmlsZXMgPSB7CiAgX3VwbG9hZEZpbGVzLAogIF91cGxvYWRGaWxlc0NvbnRpbnVlLAp9Owp9KShzZWxmKTsK",
              "ok": true,
              "headers": [
                [
                  "content-type",
                  "application/javascript"
                ]
              ],
              "status": 200,
              "status_text": ""
            }
          },
          "base_uri": "https://localhost:8080/",
          "height": 79
        },
        "id": "-V2ne8Kjmqkm",
        "outputId": "1774c377-9ac9-4ca3-d2e1-bf93599233eb"
      },
      "source": [
        "from google.colab import files\n",
        "files.upload() # kaggle.jsonをアップロード\n",
        "!mkdir -p ~/.kaggle\n",
        "!mv kaggle.json ~/.kaggle/\n",
        "!chmod 600 /root/.kaggle/kaggle.json"
      ],
      "execution_count": 1,
      "outputs": [
        {
          "output_type": "display_data",
          "data": {
            "text/html": [
              "\n",
              "     <input type=\"file\" id=\"files-754aceec-e6ee-4b36-b8c5-caedada37e11\" name=\"files[]\" multiple disabled\n",
              "        style=\"border:none\" />\n",
              "     <output id=\"result-754aceec-e6ee-4b36-b8c5-caedada37e11\">\n",
              "      Upload widget is only available when the cell has been executed in the\n",
              "      current browser session. Please rerun this cell to enable.\n",
              "      </output>\n",
              "      <script src=\"/nbextensions/google.colab/files.js\"></script> "
            ],
            "text/plain": [
              "<IPython.core.display.HTML object>"
            ]
          },
          "metadata": {
            "tags": []
          }
        },
        {
          "output_type": "stream",
          "text": [
            "Saving kaggle.json to kaggle.json\n"
          ],
          "name": "stdout"
        }
      ]
    },
    {
      "cell_type": "code",
      "metadata": {
        "colab": {
          "base_uri": "https://localhost:8080/"
        },
        "id": "NUF4x7Erm1Nh",
        "outputId": "4a06b038-0b2a-4f05-e451-00de80fe3993"
      },
      "source": [
        "import pandas as pd\n",
        "import numpy as np\n",
        "\n",
        "# データの準備\n",
        "def prepare():\n",
        "    !kaggle datasets download -d rajanand/rainfall-in-india\n",
        "    !unzip rainfall-in-india.zip\n",
        "\n",
        "# データの読み込み\n",
        "def preprocess():\n",
        "    # CSVファイルを読み込んでデータフレームに格納\n",
        "    df = pd.read_csv('rainfall in india 1901-2015.csv')\n",
        "    # データフレームから特定の列のみを抽出\n",
        "    #（1月～12月のデータ）\n",
        "    data = df.iloc[:,2:14]\n",
        "    col = df.columns.values[2:14]\n",
        "    df = pd.DataFrame(data, columns=col)\n",
        "    print('Original Data:\\t%d' % len(df))\n",
        "    return df\n",
        "\n",
        "# 欠損値の削除\n",
        "def drop_missing_data(data): \n",
        "  # 欠損している要素数を列ごとに確認\n",
        "    data.isnull().sum()\n",
        "    data.info()\n",
        "    # リストワイズ法で欠損値を含む行を削除する\n",
        "    print('Missing Value Removed Data:\\t%d' \\\n",
        "    % len(data.dropna()))\n",
        "    # 欠損値を別のデータで埋める\n",
        "    print('\\n===== Fill by FILL =====')\n",
        "    print( data.fillna('FILL')[20:30] )\n",
        "    print('\\n===== Fill by 100 =====')\n",
        "    print(data.fillna(100)[20:30])\n",
        "\n",
        "# 代表値による代入\n",
        "def insert_typical_value(df, comp_type):\n",
        "    print('\\n===== Fill by {} ====='.format(comp_type))\n",
        "    for f in df.columns.values: \n",
        "        if comp_type == 'mean':\n",
        "            # 平均値で穴埋め\n",
        "            df[f].fillna(df[f].mean(), inplace=True)\n",
        "        elif comp_type == 'median':\n",
        "            # 中央値で穴埋め\n",
        "            df[f].fillna(df[f].median(), inplace=True) \n",
        "        elif comp_type == 'mode':\n",
        "            # 最頻値で穴埋め\n",
        "            df[f].fillna(df[f].mode()[0], inplace=True) \n",
        "    return df\n",
        "\n",
        "def main():\n",
        "    prepare()\n",
        "    data = preprocess()\n",
        "    # 欠損値の除去\n",
        "    drop_missing_data(data) \n",
        "    for comp_type in ['mean', 'median', 'mode']:\n",
        "        dt = preprocess()\n",
        "        res = insert_typical_value(dt, comp_type)\n",
        "        print(res[20:30])\n",
        "\n",
        "if __name__ == '__main__':\n",
        "    main()\n"
      ],
      "execution_count": 2,
      "outputs": [
        {
          "output_type": "stream",
          "text": [
            "Downloading rainfall-in-india.zip to /content\n",
            "\r  0% 0.00/187k [00:00<?, ?B/s]\n",
            "\r100% 187k/187k [00:00<00:00, 72.3MB/s]\n",
            "Archive:  rainfall-in-india.zip\n",
            "  inflating: district wise rainfall normal.csv  \n",
            "  inflating: rainfall in india 1901-2015.csv  \n",
            "Original Data:\t4116\n",
            "<class 'pandas.core.frame.DataFrame'>\n",
            "RangeIndex: 4116 entries, 0 to 4115\n",
            "Data columns (total 12 columns):\n",
            " #   Column  Non-Null Count  Dtype  \n",
            "---  ------  --------------  -----  \n",
            " 0   JAN     4112 non-null   float64\n",
            " 1   FEB     4113 non-null   float64\n",
            " 2   MAR     4110 non-null   float64\n",
            " 3   APR     4112 non-null   float64\n",
            " 4   MAY     4113 non-null   float64\n",
            " 5   JUN     4111 non-null   float64\n",
            " 6   JUL     4109 non-null   float64\n",
            " 7   AUG     4112 non-null   float64\n",
            " 8   SEP     4110 non-null   float64\n",
            " 9   OCT     4109 non-null   float64\n",
            " 10  NOV     4105 non-null   float64\n",
            " 11  DEC     4106 non-null   float64\n",
            "dtypes: float64(12)\n",
            "memory usage: 386.0 KB\n",
            "Missing Value Removed Data:\t4090\n",
            "\n",
            "===== Fill by FILL =====\n",
            "      JAN    FEB    MAR    APR    MAY  ...    AUG    SEP    OCT    NOV    DEC\n",
            "20  245.3   34.3   15.6  323.1  289.7  ...  307.4  511.7    162    541  192.2\n",
            "21   79.5      0   FILL   91.3  293.5  ...  182.2  560.5  131.9  197.4   70.6\n",
            "22   28.7      0   14.8   89.7  191.2  ...  290.9  251.2  331.1  378.6   FILL\n",
            "23   36.6      0    8.6   50.4  282.2  ...  278.2  201.9  249.5  271.5    196\n",
            "24  122.1      0      0    0.5  198.4  ...  523.7  719.3  443.8  148.4  560.7\n",
            "25      3   17.5   17.8  108.6  504.1  ...  370.1  126.2  327.5  274.1   65.5\n",
            "26   50.9   67.6   80.7  129.3  499.5  ...  391.5  404.8  444.5   99.5   13.5\n",
            "27   74.2  118.4  129.2   69.8  316.6  ...  644.7  172.9    413  251.5   13.5\n",
            "28   87.4  105.4  131.2   10.9  231.5  ...  446.7  677.2   82.3  249.4  201.6\n",
            "29   25.3      0    2.5    2.5  205.4  ...    571  294.4  368.3   22.8  182.7\n",
            "\n",
            "[10 rows x 12 columns]\n",
            "\n",
            "===== Fill by 100 =====\n",
            "      JAN    FEB    MAR    APR    MAY  ...    AUG    SEP    OCT    NOV    DEC\n",
            "20  245.3   34.3   15.6  323.1  289.7  ...  307.4  511.7  162.0  541.0  192.2\n",
            "21   79.5    0.0  100.0   91.3  293.5  ...  182.2  560.5  131.9  197.4   70.6\n",
            "22   28.7    0.0   14.8   89.7  191.2  ...  290.9  251.2  331.1  378.6  100.0\n",
            "23   36.6    0.0    8.6   50.4  282.2  ...  278.2  201.9  249.5  271.5  196.0\n",
            "24  122.1    0.0    0.0    0.5  198.4  ...  523.7  719.3  443.8  148.4  560.7\n",
            "25    3.0   17.5   17.8  108.6  504.1  ...  370.1  126.2  327.5  274.1   65.5\n",
            "26   50.9   67.6   80.7  129.3  499.5  ...  391.5  404.8  444.5   99.5   13.5\n",
            "27   74.2  118.4  129.2   69.8  316.6  ...  644.7  172.9  413.0  251.5   13.5\n",
            "28   87.4  105.4  131.2   10.9  231.5  ...  446.7  677.2   82.3  249.4  201.6\n",
            "29   25.3    0.0    2.5    2.5  205.4  ...  571.0  294.4  368.3   22.8  182.7\n",
            "\n",
            "[10 rows x 12 columns]\n",
            "Original Data:\t4116\n",
            "\n",
            "===== Fill by mean =====\n",
            "      JAN    FEB         MAR    APR  ...    SEP    OCT    NOV        DEC\n",
            "20  245.3   34.3   15.600000  323.1  ...  511.7  162.0  541.0  192.20000\n",
            "21   79.5    0.0   27.359197   91.3  ...  560.5  131.9  197.4   70.60000\n",
            "22   28.7    0.0   14.800000   89.7  ...  251.2  331.1  378.6   18.87058\n",
            "23   36.6    0.0    8.600000   50.4  ...  201.9  249.5  271.5  196.00000\n",
            "24  122.1    0.0    0.000000    0.5  ...  719.3  443.8  148.4  560.70000\n",
            "25    3.0   17.5   17.800000  108.6  ...  126.2  327.5  274.1   65.50000\n",
            "26   50.9   67.6   80.700000  129.3  ...  404.8  444.5   99.5   13.50000\n",
            "27   74.2  118.4  129.200000   69.8  ...  172.9  413.0  251.5   13.50000\n",
            "28   87.4  105.4  131.200000   10.9  ...  677.2   82.3  249.4  201.60000\n",
            "29   25.3    0.0    2.500000    2.5  ...  294.4  368.3   22.8  182.70000\n",
            "\n",
            "[10 rows x 12 columns]\n",
            "Original Data:\t4116\n",
            "\n",
            "===== Fill by median =====\n",
            "      JAN    FEB    MAR    APR    MAY  ...    AUG    SEP    OCT    NOV    DEC\n",
            "20  245.3   34.3   15.6  323.1  289.7  ...  307.4  511.7  162.0  541.0  192.2\n",
            "21   79.5    0.0    7.8   91.3  293.5  ...  182.2  560.5  131.9  197.4   70.6\n",
            "22   28.7    0.0   14.8   89.7  191.2  ...  290.9  251.2  331.1  378.6    3.0\n",
            "23   36.6    0.0    8.6   50.4  282.2  ...  278.2  201.9  249.5  271.5  196.0\n",
            "24  122.1    0.0    0.0    0.5  198.4  ...  523.7  719.3  443.8  148.4  560.7\n",
            "25    3.0   17.5   17.8  108.6  504.1  ...  370.1  126.2  327.5  274.1   65.5\n",
            "26   50.9   67.6   80.7  129.3  499.5  ...  391.5  404.8  444.5   99.5   13.5\n",
            "27   74.2  118.4  129.2   69.8  316.6  ...  644.7  172.9  413.0  251.5   13.5\n",
            "28   87.4  105.4  131.2   10.9  231.5  ...  446.7  677.2   82.3  249.4  201.6\n",
            "29   25.3    0.0    2.5    2.5  205.4  ...  571.0  294.4  368.3   22.8  182.7\n",
            "\n",
            "[10 rows x 12 columns]\n",
            "Original Data:\t4116\n",
            "\n",
            "===== Fill by mode =====\n",
            "      JAN    FEB    MAR    APR    MAY  ...    AUG    SEP    OCT    NOV    DEC\n",
            "20  245.3   34.3   15.6  323.1  289.7  ...  307.4  511.7  162.0  541.0  192.2\n",
            "21   79.5    0.0    0.0   91.3  293.5  ...  182.2  560.5  131.9  197.4   70.6\n",
            "22   28.7    0.0   14.8   89.7  191.2  ...  290.9  251.2  331.1  378.6    0.0\n",
            "23   36.6    0.0    8.6   50.4  282.2  ...  278.2  201.9  249.5  271.5  196.0\n",
            "24  122.1    0.0    0.0    0.5  198.4  ...  523.7  719.3  443.8  148.4  560.7\n",
            "25    3.0   17.5   17.8  108.6  504.1  ...  370.1  126.2  327.5  274.1   65.5\n",
            "26   50.9   67.6   80.7  129.3  499.5  ...  391.5  404.8  444.5   99.5   13.5\n",
            "27   74.2  118.4  129.2   69.8  316.6  ...  644.7  172.9  413.0  251.5   13.5\n",
            "28   87.4  105.4  131.2   10.9  231.5  ...  446.7  677.2   82.3  249.4  201.6\n",
            "29   25.3    0.0    2.5    2.5  205.4  ...  571.0  294.4  368.3   22.8  182.7\n",
            "\n",
            "[10 rows x 12 columns]\n"
          ],
          "name": "stdout"
        }
      ]
    }
  ]
}