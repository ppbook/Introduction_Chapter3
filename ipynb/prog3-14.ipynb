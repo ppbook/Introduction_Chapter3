{
  "nbformat": 4,
  "nbformat_minor": 0,
  "metadata": {
    "colab": {
      "name": "prog3-14.ipynb",
      "provenance": [],
      "collapsed_sections": []
    },
    "kernelspec": {
      "name": "python3",
      "display_name": "Python 3"
    }
  },
  "cells": [
    {
      "cell_type": "code",
      "metadata": {
        "colab": {
          "resources": {
            "http://localhost:8080/nbextensions/google.colab/files.js": {
              "data": "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",
              "ok": true,
              "headers": [
                [
                  "content-type",
                  "application/javascript"
                ]
              ],
              "status": 200,
              "status_text": ""
            }
          },
          "base_uri": "https://localhost:8080/",
          "height": 79
        },
        "id": "228yL7sFqY9l",
        "outputId": "c912b483-8bf8-4f74-c7db-090ea5080c3c"
      },
      "source": [
        "from google.colab import files\n",
        "files.upload() # kaggle.jsonをアップロード\n",
        "!mkdir -p ~/.kaggle\n",
        "!mv kaggle.json ~/.kaggle/\n",
        "!chmod 600 /root/.kaggle/kaggle.json"
      ],
      "execution_count": 1,
      "outputs": [
        {
          "output_type": "display_data",
          "data": {
            "text/html": [
              "\n",
              "     <input type=\"file\" id=\"files-e02498d1-b2ab-400e-8a72-36e5eebf32b8\" name=\"files[]\" multiple disabled\n",
              "        style=\"border:none\" />\n",
              "     <output id=\"result-e02498d1-b2ab-400e-8a72-36e5eebf32b8\">\n",
              "      Upload widget is only available when the cell has been executed in the\n",
              "      current browser session. Please rerun this cell to enable.\n",
              "      </output>\n",
              "      <script src=\"/nbextensions/google.colab/files.js\"></script> "
            ],
            "text/plain": [
              "<IPython.core.display.HTML object>"
            ]
          },
          "metadata": {
            "tags": []
          }
        },
        {
          "output_type": "stream",
          "text": [
            "Saving kaggle.json to kaggle.json\n"
          ],
          "name": "stdout"
        }
      ]
    },
    {
      "cell_type": "code",
      "metadata": {
        "colab": {
          "base_uri": "https://localhost:8080/",
          "height": 1000
        },
        "id": "A32Sltyrqkyh",
        "outputId": "1b0dd62e-ee46-4edf-8673-7e1a4a8ae84f"
      },
      "source": [
        "import pandas as pd\n",
        "import re\n",
        "import numpy as np\n",
        "import time\n",
        "from sklearn.linear_model import LogisticRegression\n",
        "from sklearn.model_selection import train_test_split\n",
        "from sklearn.metrics import mean_squared_error, roc_curve, auc\n",
        "from sklearn.metrics import classification_report\n",
        "# LightGBMを使うためにインポート\n",
        "import lightgbm as lgb\n",
        "import matplotlib\n",
        "%matplotlib inline\n",
        "import matplotlib.pyplot as plt\n",
        "# sqlite3のデータを扱うために必要\n",
        "import sqlite3\n",
        "\n",
        "# データの準備\n",
        "def prepare():\n",
        "    # サッカー選手の属性データ\n",
        "    !kaggle datasets download -d hugomathien/soccer\n",
        "    !unzip soccer.zip\n",
        "    # SQLite3形式で提供されているため、必要なデータを\n",
        "    # 検索式で取得してDataFrameに格納する\n",
        "    db_name = 'database.sqlite'\n",
        "    con = sqlite3.connect(db_name)\n",
        "    c = con.execute('SELECT * FROM Player_Attributes') \n",
        "    fields = list(map(lambda x: x[0], c.description)) \n",
        "    fields = list(\n",
        "             filter(\n",
        "             lambda x: re.match(r'.*(id|date|rate)$', x) \\\n",
        "                                       == None , fields))\n",
        "    print(fields)\n",
        "    # SELECT結果をDataFrameに格納\n",
        "    fstr = ', '.join(fields) \n",
        "    df = pd.read_sql_query(\n",
        "         sql=u\"SELECT %s FROM Player_Attributes\" % \\\n",
        "         fstr, con=con)\n",
        "    target_field = 'preferred_foot'\n",
        "    df.dropna(subset=[target_field], inplace=True)\n",
        "    df[target_field] = \\\n",
        "    df[target_field].map({'left':0, 'right':1}).astype(int)\n",
        "    return con, fields, df, target_field\n",
        "\n",
        "# 学習/テストデータを作成\n",
        "def make_data(df, target_field, flag):\n",
        "    # flagが1ならば、すべての欠損値を含むデータを削除\n",
        "    if flag == 1:\n",
        "      df.dropna(inplace=True)\n",
        "    train_set, test_set = train_test_split(\n",
        "            df, train_size = 0.95, random_state = 9)\n",
        "    X_train = train_set.drop(target_field, axis = 1)\n",
        "    y_train = train_set[target_field]\n",
        "    X_test = test_set.drop(target_field, axis = 1)\n",
        "    y_test = test_set[target_field]\n",
        "    return X_train, X_test, y_train, y_test\n",
        "\n",
        "# ROC曲線を描く\n",
        "def makeGraph(auc, fpr, tpr, clfname):\n",
        "    markers = {'LightGBM':'*', \n",
        "             'LightGBM_removed':'o',\n",
        "             'Logistic_Regression':'x'}\n",
        "    # 見やすくするために、fpr, tpr から間引く\n",
        "    if markers[clfname] in ['*', 'o']:\n",
        "        idxs = [i for i in range(len(fpr)) if i % 100 == 0]\n",
        "        fpr = fpr[idxs]\n",
        "        tpr = tpr[idxs]\n",
        "    plt.plot(fpr, tpr, label='ROC curve (area = %.2f) [%s]'\\\n",
        "      % (auc, clfname), marker=markers[clfname], alpha=0.5)\n",
        "    plt.legend()\n",
        "    plt.title('ROC curve')\n",
        "    plt.xlabel('False Positive Rate')\n",
        "    plt.ylabel('True Positive Rate')\n",
        "    plt.grid(True)\n",
        "\n",
        "def lightGBM_train(X_train, y_train, X_test, \\\n",
        "                   y_test, X_eval, y_eval, caption):\n",
        "    # LightGBM用のデータセットに入れる\n",
        "    lgb_train = lgb.Dataset(X_train, y_train) \n",
        "    lgb_eval = lgb.Dataset(X_eval, y_eval, \n",
        "                        reference=lgb_train)\n",
        "    # LightGBMのパラメータ設定 \n",
        "    params = {\n",
        "        'objective' : 'binary',\n",
        "        'metric': 'auc',\n",
        "        'task' : 'train',\n",
        "        'boosting_type' : 'gbdt','num_leaves' :6,\n",
        "        'learning_rate' : 0.05,}\n",
        "\n",
        "    gbm = lgb.train(params, lgb_train, \n",
        "                    valid_sets=(lgb_train, lgb_eval),\n",
        "                    verbose_eval=50, \n",
        "                    num_boost_round=1000,\n",
        "                    early_stopping_rounds=100)\n",
        "    # テストデータを用いて予測精度を確認する\n",
        "    y_pred = gbm.predict(X_test)\n",
        "    fpr, tpr, thresholds = roc_curve(y_test, y_pred)\n",
        "    auc_score = auc(fpr, tpr)\n",
        "    print(auc_score)\n",
        "    makeGraph(auc_score, fpr, tpr, caption)\n",
        "\n",
        "def main():\n",
        "    con, fields, df, target_field = prepare()\n",
        "    flag = 0\n",
        "    # LightGBMを使って予測モデルを学習する\n",
        "    # 欠損値は除去しない\n",
        "    #（ターゲットが欠損しているもののみ除去）\n",
        "    X_train, X_test, y_train, y_test = make_data(\n",
        "                             df, target_field, flag)\n",
        "    X_train, X_eval, y_train, y_eval = train_test_split(\n",
        "                                       X_train, y_train)\n",
        "    lightGBM_train(X_train, y_train, X_test, \\\n",
        "                   y_test, X_eval, y_eval, 'LightGBM')\n",
        "    # 欠損値はすべて削除\n",
        "    flag = 1\n",
        "    X_train, X_test, y_train, y_test = make_data(\n",
        "                           df, target_field, flag)\n",
        "    X_train, X_eval, y_train, y_eval = train_test_split(\n",
        "                                       X_train, y_train)\n",
        "    # 欠損値を除去したデータでLightGBMを使って予測\n",
        "    lightGBM_train(X_train, y_train, X_test, \\\n",
        "                   y_test, X_eval, y_eval, 'LightGBM_removed')\n",
        "    \n",
        "    # ロジスティック回帰モデルを使って予測\n",
        "    clf = LogisticRegression(max_iter=1000)\n",
        "    clf.fit(X_train, y_train)\n",
        "    y_pred_lr = clf.predict(X_test)\n",
        "    fpr, tpr, thresholds = roc_curve(y_test, y_pred_lr)\n",
        "    auc_score = auc(fpr, tpr)\n",
        "    print(auc_score)\n",
        "    makeGraph(auc_score, fpr, tpr, 'Logistic_Regression')\n",
        "    # ROC曲線のグラフをpngファイル形式で保存\n",
        "    plt.savefig('prog3-14_fig.png', dpi=500)\n",
        "\n",
        "if __name__ == '__main__':\n",
        "    main()\n"
      ],
      "execution_count": 2,
      "outputs": [
        {
          "output_type": "stream",
          "text": [
            "Downloading soccer.zip to /content\n",
            " 83% 27.0M/32.7M [00:00<00:00, 45.6MB/s]\n",
            "100% 32.7M/32.7M [00:00<00:00, 73.0MB/s]\n",
            "Archive:  soccer.zip\n",
            "  inflating: database.sqlite         \n",
            "['overall_rating', 'potential', 'preferred_foot', 'crossing', 'finishing', 'heading_accuracy', 'short_passing', 'volleys', 'dribbling', 'curve', 'free_kick_accuracy', 'long_passing', 'ball_control', 'acceleration', 'sprint_speed', 'agility', 'reactions', 'balance', 'shot_power', 'jumping', 'stamina', 'strength', 'long_shots', 'aggression', 'interceptions', 'positioning', 'vision', 'penalties', 'marking', 'standing_tackle', 'sliding_tackle', 'gk_diving', 'gk_handling', 'gk_kicking', 'gk_positioning', 'gk_reflexes']\n",
            "Training until validation scores don't improve for 100 rounds.\n",
            "[50]\ttraining's auc: 0.688054\tvalid_1's auc: 0.689064\n",
            "[100]\ttraining's auc: 0.704404\tvalid_1's auc: 0.70595\n",
            "[150]\ttraining's auc: 0.716685\tvalid_1's auc: 0.717147\n",
            "[200]\ttraining's auc: 0.727349\tvalid_1's auc: 0.726508\n",
            "[250]\ttraining's auc: 0.735226\tvalid_1's auc: 0.732921\n",
            "[300]\ttraining's auc: 0.7428\tvalid_1's auc: 0.739726\n",
            "[350]\ttraining's auc: 0.749687\tvalid_1's auc: 0.745194\n",
            "[400]\ttraining's auc: 0.755913\tvalid_1's auc: 0.750559\n",
            "[450]\ttraining's auc: 0.762019\tvalid_1's auc: 0.755745\n",
            "[500]\ttraining's auc: 0.767347\tvalid_1's auc: 0.76\n",
            "[550]\ttraining's auc: 0.772609\tvalid_1's auc: 0.764037\n",
            "[600]\ttraining's auc: 0.777226\tvalid_1's auc: 0.767876\n",
            "[650]\ttraining's auc: 0.781807\tvalid_1's auc: 0.771714\n",
            "[700]\ttraining's auc: 0.786149\tvalid_1's auc: 0.775267\n",
            "[750]\ttraining's auc: 0.789718\tvalid_1's auc: 0.77831\n",
            "[800]\ttraining's auc: 0.794117\tvalid_1's auc: 0.782044\n",
            "[850]\ttraining's auc: 0.797677\tvalid_1's auc: 0.784996\n",
            "[900]\ttraining's auc: 0.800884\tvalid_1's auc: 0.78758\n",
            "[950]\ttraining's auc: 0.804631\tvalid_1's auc: 0.790616\n",
            "[1000]\ttraining's auc: 0.80802\tvalid_1's auc: 0.793431\n",
            "Did not meet early stopping. Best iteration is:\n",
            "[1000]\ttraining's auc: 0.80802\tvalid_1's auc: 0.793431\n",
            "0.7861160074008258\n",
            "Training until validation scores don't improve for 100 rounds.\n",
            "[50]\ttraining's auc: 0.6903\tvalid_1's auc: 0.689864\n",
            "[100]\ttraining's auc: 0.706709\tvalid_1's auc: 0.704168\n",
            "[150]\ttraining's auc: 0.718965\tvalid_1's auc: 0.714311\n",
            "[200]\ttraining's auc: 0.729288\tvalid_1's auc: 0.722812\n",
            "[250]\ttraining's auc: 0.738016\tvalid_1's auc: 0.729874\n",
            "[300]\ttraining's auc: 0.745654\tvalid_1's auc: 0.735884\n",
            "[350]\ttraining's auc: 0.752145\tvalid_1's auc: 0.741321\n",
            "[400]\ttraining's auc: 0.7583\tvalid_1's auc: 0.746062\n",
            "[450]\ttraining's auc: 0.764391\tvalid_1's auc: 0.751122\n",
            "[500]\ttraining's auc: 0.7697\tvalid_1's auc: 0.755339\n",
            "[550]\ttraining's auc: 0.774715\tvalid_1's auc: 0.759324\n",
            "[600]\ttraining's auc: 0.779687\tvalid_1's auc: 0.763698\n",
            "[650]\ttraining's auc: 0.783952\tvalid_1's auc: 0.767594\n",
            "[700]\ttraining's auc: 0.788471\tvalid_1's auc: 0.771356\n",
            "[750]\ttraining's auc: 0.792999\tvalid_1's auc: 0.775035\n",
            "[800]\ttraining's auc: 0.796755\tvalid_1's auc: 0.778543\n",
            "[850]\ttraining's auc: 0.800719\tvalid_1's auc: 0.781807\n",
            "[900]\ttraining's auc: 0.804699\tvalid_1's auc: 0.785268\n",
            "[950]\ttraining's auc: 0.808566\tvalid_1's auc: 0.788585\n",
            "[1000]\ttraining's auc: 0.811961\tvalid_1's auc: 0.791549\n",
            "Did not meet early stopping. Best iteration is:\n",
            "[1000]\ttraining's auc: 0.811961\tvalid_1's auc: 0.791549\n",
            "0.7878895684192104\n",
            "0.5366637218314988\n"
          ],
          "name": "stdout"
        },
        {
          "output_type": "display_data",
          "data": {
            "image/png": "[encoded data removed]",
            "text/plain": [
              "<Figure size 432x288 with 1 Axes>"
            ]
          },
          "metadata": {
            "tags": [],
            "needs_background": "light"
          }
        }
      ]
    }
  ]
}