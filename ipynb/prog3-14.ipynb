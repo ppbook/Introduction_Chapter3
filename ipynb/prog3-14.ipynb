{
  "nbformat": 4,
  "nbformat_minor": 0,
  "metadata": {
    "colab": {
      "name": "prog3-14.ipynb",
      "provenance": []
    },
    "kernelspec": {
      "name": "python3",
      "display_name": "Python 3"
    }
  },
  "cells": [
    {
      "cell_type": "code",
      "metadata": {
        "colab": {
          "resources": {
            "http://localhost:8080/nbextensions/google.colab/files.js": {
              "data": "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",
              "ok": true,
              "headers": [
                [
                  "content-type",
                  "application/javascript"
                ]
              ],
              "status": 200,
              "status_text": ""
            }
          },
          "base_uri": "https://localhost:8080/",
          "height": 79
        },
        "id": "228yL7sFqY9l",
        "outputId": "d307a5cb-2e42-472c-aeb8-f7f80fbac741"
      },
      "source": [
        "from google.colab import files\r\n",
        "files.upload() # kaggle.jsonをアップロード\r\n",
        "!mkdir -p ~/.kaggle\r\n",
        "!mv kaggle.json ~/.kaggle/\r\n",
        "!chmod 600 /root/.kaggle/kaggle.json"
      ],
      "execution_count": 1,
      "outputs": [
        {
          "output_type": "display_data",
          "data": {
            "text/html": [
              "\n",
              "     <input type=\"file\" id=\"files-35279a53-89af-439a-937a-b408fd34a1af\" name=\"files[]\" multiple disabled\n",
              "        style=\"border:none\" />\n",
              "     <output id=\"result-35279a53-89af-439a-937a-b408fd34a1af\">\n",
              "      Upload widget is only available when the cell has been executed in the\n",
              "      current browser session. Please rerun this cell to enable.\n",
              "      </output>\n",
              "      <script src=\"/nbextensions/google.colab/files.js\"></script> "
            ],
            "text/plain": [
              "<IPython.core.display.HTML object>"
            ]
          },
          "metadata": {
            "tags": []
          }
        },
        {
          "output_type": "stream",
          "text": [
            "Saving kaggle.json to kaggle.json\n"
          ],
          "name": "stdout"
        }
      ]
    },
    {
      "cell_type": "code",
      "metadata": {
        "colab": {
          "base_uri": "https://localhost:8080/",
          "height": 1000
        },
        "id": "A32Sltyrqkyh",
        "outputId": "dc81fdf2-b3ea-437a-b182-f8136575f1c5"
      },
      "source": [
        "import pandas as pd\r\n",
        "import re\r\n",
        "import numpy as np\r\n",
        "import time\r\n",
        "from sklearn.linear_model import LogisticRegression\r\n",
        "from sklearn.model_selection import train_test_split\r\n",
        "from sklearn.metrics import mean_squared_error, roc_curve, auc\r\n",
        "from sklearn.metrics import classification_report\r\n",
        "# LightGBMを使うためにインポート\r\n",
        "import lightgbm as lgb\r\n",
        "import matplotlib\r\n",
        "%matplotlib inline\r\n",
        "import matplotlib.pyplot as plt\r\n",
        "# sqlite3のデータを扱うために必要\r\n",
        "import sqlite3\r\n",
        "# データの準備\r\n",
        "def prepare():\r\n",
        "    # サッカー選手の属性データ\r\n",
        "    !kaggle datasets download -d hugomathien/soccer\r\n",
        "    !unzip soccer.zip\r\n",
        "    # SQLite3形式で提供されているため、必要なデータを\r\n",
        "    # 検索式で取得してDataFrameに格納する\r\n",
        "    db_name = 'database.sqlite'\r\n",
        "    con = sqlite3.connect(db_name)\r\n",
        "    c = con.execute('SELECT * FROM Player_Attributes') \r\n",
        "    fields = list(map(lambda x: x[0], c.description)) \r\n",
        "    fields = list(\r\n",
        "             filter(\r\n",
        "             lambda x: re.match(r'.*(id|date|rate)$', x) \\\r\n",
        "                                       == None , fields))\r\n",
        "    print(fields)\r\n",
        "    # SELECT結果をDataFrameに格納\r\n",
        "    fstr = ', '.join(fields) \r\n",
        "    df = pd.read_sql_query(\r\n",
        "         sql=u\"SELECT %s FROM Player_Attributes\" % \\\r\n",
        "         fstr, con=con)\r\n",
        "    target_field = 'preferred_foot'\r\n",
        "    df.dropna(subset=[target_field], inplace=True)\r\n",
        "    df[target_field] = \\\r\n",
        "    df[target_field].map({'left':0, 'right':1}).astype(int)\r\n",
        "    return con, fields, df, target_field\r\n",
        "\r\n",
        "# 学習/テストデータを作成\r\n",
        "def make_data(df, target_field, flag):\r\n",
        "    # flagが1ならば、すべての欠損値を含むデータを削除\r\n",
        "    if flag == 1:\r\n",
        "      df.dropna(inplace=True)\r\n",
        "    train_set, test_set = train_test_split(\r\n",
        "            df, train_size = 0.95, random_state = 9)\r\n",
        "    X_train = train_set.drop(target_field, axis = 1)\r\n",
        "    y_train = train_set[target_field]\r\n",
        "    X_test = test_set.drop(target_field, axis = 1)\r\n",
        "    y_test = test_set[target_field]\r\n",
        "    return X_train, X_test, y_train, y_test\r\n",
        "\r\n",
        "# ROC曲線を描く\r\n",
        "def makeGraph(auc, fpr, tpr, clfname):\r\n",
        "    markers = {'LightGBM':'*', \r\n",
        "             'LightGBM_removed':'o',\r\n",
        "             'Logistic_Regression':'x'}\r\n",
        "    # 見やすくするために、fpr, tpr から間引く\r\n",
        "    if markers[clfname] in ['*', 'o']:\r\n",
        "        idxs = [i for i in range(len(fpr)) if i % 100 == 0]\r\n",
        "        fpr = fpr[idxs]\r\n",
        "        tpr = tpr[idxs]\r\n",
        "    plt.plot(fpr, tpr, label='ROC curve (area = %.2f) [%s]'\\\r\n",
        "      % (auc, clfname), marker=markers[clfname], alpha=0.5)\r\n",
        "    plt.legend()\r\n",
        "    plt.title('ROC curve')\r\n",
        "    plt.xlabel('False Positive Rate')\r\n",
        "    plt.ylabel('True Positive Rate')\r\n",
        "    plt.grid(True)\r\n",
        "\r\n",
        "def lightGBM_train(X_train, y_train, X_test, \\\r\n",
        "                   y_test, X_eval, y_eval, caption):\r\n",
        "    # LightGBM用のデータセットに入れる\r\n",
        "    lgb_train = lgb.Dataset(X_train, y_train) \r\n",
        "    lgb_eval = lgb.Dataset(X_eval, y_eval, \r\n",
        "                        reference=lgb_train)\r\n",
        "    # LightGBMのパラメータ設定 \r\n",
        "    params = {\r\n",
        "        'objective' : 'binary',\r\n",
        "        'metric': 'auc',\r\n",
        "        'task' : 'train',\r\n",
        "        'boosting_type' : 'gbdt','num_leaves' :6,\r\n",
        "        'learning_rate' : 0.05,}\r\n",
        "\r\n",
        "    gbm = lgb.train(params, lgb_train, \r\n",
        "                    valid_sets=(lgb_train, lgb_eval),\r\n",
        "                    verbose_eval=50, \r\n",
        "                    num_boost_round=1000,\r\n",
        "                    early_stopping_rounds=100)\r\n",
        "    # テストデータを用いて予測精度を確認する\r\n",
        "    y_pred = gbm.predict(X_test)\r\n",
        "    fpr, tpr, thresholds = roc_curve(y_test, y_pred)\r\n",
        "    auc_score = auc(fpr, tpr)\r\n",
        "    print(auc_score)\r\n",
        "    makeGraph(auc_score, fpr, tpr, caption)\r\n",
        "\r\n",
        "def main():\r\n",
        "    con, fields, df, target_field = prepare()\r\n",
        "    flag = 0\r\n",
        "    # LightGBMを使って予測モデルを学習する\r\n",
        "    # 欠損値は除去しない\r\n",
        "    #（ターゲットが欠損しているもののみ除去）\r\n",
        "    X_train, X_test, y_train, y_test = make_data(\r\n",
        "                             df, target_field, flag)\r\n",
        "    X_train, X_eval, y_train, y_eval = train_test_split(\r\n",
        "                                       X_train, y_train)\r\n",
        "    lightGBM_train(X_train, y_train, X_test, \\\r\n",
        "                   y_test, X_eval, y_eval, 'LightGBM')\r\n",
        "    # 欠損値はすべて削除\r\n",
        "    flag = 1\r\n",
        "    X_train, X_test, y_train, y_test = make_data(\r\n",
        "                           df, target_field, flag)\r\n",
        "    X_train, X_eval, y_train, y_eval = train_test_split(\r\n",
        "                                       X_train, y_train)\r\n",
        "    # 欠損値を除去したデータでLightGBMを使って予測\r\n",
        "    lightGBM_train(X_train, y_train, X_test, \\\r\n",
        "                   y_test, X_eval, y_eval, 'LightGBM_removed')\r\n",
        "    \r\n",
        "    # ロジスティック回帰モデルを使って予測\r\n",
        "    clf = LogisticRegression(max_iter=1000)\r\n",
        "    clf.fit(X_train, y_train)\r\n",
        "    y_pred_lr = clf.predict(X_test)\r\n",
        "    fpr, tpr, thresholds = roc_curve(y_test, y_pred_lr)\r\n",
        "    auc_score = auc(fpr, tpr)\r\n",
        "    print(auc_score)\r\n",
        "    makeGraph(auc_score, fpr, tpr, 'Logistic_Regression')\r\n",
        "    # ROC曲線のグラフをpngファイル形式で保存\r\n",
        "    plt.savefig('prog3-14_fig.png', dpi=500)\r\n",
        "\r\n",
        "if __name__ == '__main__':\r\n",
        "    main()\r\n"
      ],
      "execution_count": 2,
      "outputs": [
        {
          "output_type": "stream",
          "text": [
            "Downloading soccer.zip to /content\n",
            "100% 32.7M/32.7M [00:00<00:00, 27.3MB/s]\n",
            "\n",
            "Archive:  soccer.zip\n",
            "  inflating: database.sqlite         \n",
            "['overall_rating', 'potential', 'preferred_foot', 'crossing', 'finishing', 'heading_accuracy', 'short_passing', 'volleys', 'dribbling', 'curve', 'free_kick_accuracy', 'long_passing', 'ball_control', 'acceleration', 'sprint_speed', 'agility', 'reactions', 'balance', 'shot_power', 'jumping', 'stamina', 'strength', 'long_shots', 'aggression', 'interceptions', 'positioning', 'vision', 'penalties', 'marking', 'standing_tackle', 'sliding_tackle', 'gk_diving', 'gk_handling', 'gk_kicking', 'gk_positioning', 'gk_reflexes']\n",
            "Training until validation scores don't improve for 100 rounds.\n",
            "[50]\ttraining's auc: 0.688696\tvalid_1's auc: 0.687535\n",
            "[100]\ttraining's auc: 0.705957\tvalid_1's auc: 0.703503\n",
            "[150]\ttraining's auc: 0.717948\tvalid_1's auc: 0.714001\n",
            "[200]\ttraining's auc: 0.728377\tvalid_1's auc: 0.723483\n",
            "[250]\ttraining's auc: 0.737201\tvalid_1's auc: 0.730923\n",
            "[300]\ttraining's auc: 0.744521\tvalid_1's auc: 0.736874\n",
            "[350]\ttraining's auc: 0.750932\tvalid_1's auc: 0.742044\n",
            "[400]\ttraining's auc: 0.757055\tvalid_1's auc: 0.747564\n",
            "[450]\ttraining's auc: 0.762567\tvalid_1's auc: 0.752103\n",
            "[500]\ttraining's auc: 0.768087\tvalid_1's auc: 0.756955\n",
            "[550]\ttraining's auc: 0.773114\tvalid_1's auc: 0.761135\n",
            "[600]\ttraining's auc: 0.778176\tvalid_1's auc: 0.765459\n",
            "[650]\ttraining's auc: 0.782425\tvalid_1's auc: 0.769115\n",
            "[700]\ttraining's auc: 0.78734\tvalid_1's auc: 0.773568\n",
            "[750]\ttraining's auc: 0.791779\tvalid_1's auc: 0.777319\n",
            "[800]\ttraining's auc: 0.795918\tvalid_1's auc: 0.780772\n",
            "[850]\ttraining's auc: 0.80002\tvalid_1's auc: 0.784137\n",
            "[900]\ttraining's auc: 0.804282\tvalid_1's auc: 0.787971\n",
            "[950]\ttraining's auc: 0.808317\tvalid_1's auc: 0.791519\n",
            "[1000]\ttraining's auc: 0.811379\tvalid_1's auc: 0.794271\n",
            "Did not meet early stopping. Best iteration is:\n",
            "[1000]\ttraining's auc: 0.811379\tvalid_1's auc: 0.794271\n",
            "0.7877699149595151\n",
            "Training until validation scores don't improve for 100 rounds.\n",
            "[50]\ttraining's auc: 0.68925\tvalid_1's auc: 0.690972\n",
            "[100]\ttraining's auc: 0.705939\tvalid_1's auc: 0.706265\n",
            "[150]\ttraining's auc: 0.717119\tvalid_1's auc: 0.71532\n",
            "[200]\ttraining's auc: 0.727416\tvalid_1's auc: 0.724839\n",
            "[250]\ttraining's auc: 0.736033\tvalid_1's auc: 0.732358\n",
            "[300]\ttraining's auc: 0.743874\tvalid_1's auc: 0.738899\n",
            "[350]\ttraining's auc: 0.750628\tvalid_1's auc: 0.744699\n",
            "[400]\ttraining's auc: 0.756817\tvalid_1's auc: 0.750042\n",
            "[450]\ttraining's auc: 0.763069\tvalid_1's auc: 0.755245\n",
            "[500]\ttraining's auc: 0.768389\tvalid_1's auc: 0.759679\n",
            "[550]\ttraining's auc: 0.77362\tvalid_1's auc: 0.763723\n",
            "[600]\ttraining's auc: 0.778117\tvalid_1's auc: 0.767618\n",
            "[650]\ttraining's auc: 0.783232\tvalid_1's auc: 0.771814\n",
            "[700]\ttraining's auc: 0.787613\tvalid_1's auc: 0.775396\n",
            "[750]\ttraining's auc: 0.791911\tvalid_1's auc: 0.778797\n",
            "[800]\ttraining's auc: 0.796258\tvalid_1's auc: 0.782351\n",
            "[850]\ttraining's auc: 0.799903\tvalid_1's auc: 0.785334\n",
            "[900]\ttraining's auc: 0.803808\tvalid_1's auc: 0.788419\n",
            "[950]\ttraining's auc: 0.807319\tvalid_1's auc: 0.791321\n",
            "[1000]\ttraining's auc: 0.811496\tvalid_1's auc: 0.794715\n",
            "Did not meet early stopping. Best iteration is:\n",
            "[1000]\ttraining's auc: 0.811496\tvalid_1's auc: 0.794715\n",
            "0.789736771297394\n",
            "0.5366676517716694\n"
          ],
          "name": "stdout"
        },
        {
          "output_type": "display_data",
          "data": {
            "image/png": "[encoded data removed]",
            "text/plain": [
              "<Figure size 432x288 with 1 Axes>"
            ]
          },
          "metadata": {
            "tags": [],
            "needs_background": "light"
          }
        }
      ]
    }
  ]
}